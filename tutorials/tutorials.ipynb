{
 "cells": [
  {
   "cell_type": "markdown",
   "metadata": {},
   "source": [
    "<br>\n",
    "<p align=\"center\">\n",
    "<img src=\"./logo.png\" alt= \"MXgap logo\" width=600>\n",
    "</p>"
   ]
  },
  {
   "cell_type": "markdown",
   "metadata": {},
   "source": [
    "<h1 style=\"text-align: center;\"> MXgap: A Machine Learning Program to predict MXene Bandgaps\n"
   ]
  },
  {
   "cell_type": "markdown",
   "metadata": {},
   "source": [
    "`mxgap` is a computational tool designed to streamline electronic structure calculations for MXenes using hybrid functionals like PBE0. By employing Machine Learning (ML) models, mxgap predicts the PBE0 bandgap based on features extracted from a PBE calculation. Aside from its CLI interface, it can also be used as an imported module. In this Notebook some examples are found."
   ]
  },
  {
   "cell_type": "markdown",
   "metadata": {},
   "source": [
    "## 1. Getting Started"
   ]
  },
  {
   "cell_type": "markdown",
   "metadata": {},
   "source": [
    "Predictions can be made either using the `run_prediction()` or the `ML_prediction()` functions. The `run_prediction()` receives the same arguments as in the CLI and does input validation, and the runs `ML_prediction()` internally. While the `ML_prediction()` will directly run the prediction with the ML model chosen. Both will return the prediction (or predictions when choosing a C+R model combination) in a list, and write a file (`mxgap.info`) in the selected path folder with a report of the calculation."
   ]
  },
  {
   "cell_type": "markdown",
   "metadata": {},
   "source": [
    "For example, to use the best model available (a combination of GBC classifier and RFR regressor):"
   ]
  },
  {
   "cell_type": "code",
   "execution_count": 1,
   "metadata": {},
   "outputs": [
    {
     "name": "stdout",
     "output_type": "stream",
     "text": [
      "\n",
      "\n",
      "====================================================================\n",
      "                            MXgap Report                           \n",
      "====================================================================\n",
      "\n",
      "Date:            2024-10-16 10:44:57\n",
      "Model Used:      GBC+RFR_onlygap\n",
      "Folder Path:     .\n",
      "CONTCAR file:    ./CONTCAR\n",
      "DOSCAR file:     ./DOSCAR\n",
      "\n",
      "====================================================================\n",
      "    \n",
      "Predicted ML_isgap  =  1 (Semiconductor)\n",
      "Predicted ML_gap    =  1.961\n",
      "\n",
      "Finished successfully in 0.56s\n"
     ]
    }
   ],
   "source": [
    "from mxgap import run_prediction\n",
    "\n",
    "path         = \".\"                  # Path to the folder where the CONTCAR and DOSCAR are present\n",
    "model        = \"GBC+RFR_onlygap\"    # \"best\" or \"default\" can also be used to get the best model.\n",
    "prediction   =  run_prediction(path = path, model = model)\n"
   ]
  },
  {
   "cell_type": "markdown",
   "metadata": {},
   "source": [
    "The direct paths for the CONTCAR and DOSCAR can also be given, with the files argument:"
   ]
  },
  {
   "cell_type": "code",
   "execution_count": 2,
   "metadata": {},
   "outputs": [
    {
     "name": "stdout",
     "output_type": "stream",
     "text": [
      "\n",
      "\n",
      "====================================================================\n",
      "                            MXgap Report                           \n",
      "====================================================================\n",
      "\n",
      "Date:            2024-10-16 10:44:58\n",
      "Model Used:      GBC+RFR_onlygap\n",
      "Folder Path:     None\n",
      "CONTCAR file:    ./CONTCAR\n",
      "DOSCAR file:     ./DOSCAR\n",
      "\n",
      "====================================================================\n",
      "    \n",
      "Predicted ML_isgap  =  1 (Semiconductor)\n",
      "Predicted ML_gap    =  1.961\n",
      "\n",
      "Finished successfully in 0.07s\n"
     ]
    }
   ],
   "source": [
    "from mxgap import run_prediction\n",
    "\n",
    "files        = [\"./CONTCAR\",\"./DOSCAR\"]     # List with the CONTCAR and DOSCAR files\n",
    "model        = \"GBC+RFR_onlygap\"            # \"best\" or \"default\" can also be used to get the best model.\n",
    "prediction   =  run_prediction(files = files, model = model)"
   ]
  },
  {
   "cell_type": "markdown",
   "metadata": {},
   "source": [
    "And the same can be done with the `ML_prediction()` function:"
   ]
  },
  {
   "cell_type": "code",
   "execution_count": 3,
   "metadata": {},
   "outputs": [
    {
     "name": "stdout",
     "output_type": "stream",
     "text": [
      "Predicted ML_isgap  =  1 (Semiconductor)\n",
      "Predicted ML_gap    =  1.961\n"
     ]
    }
   ],
   "source": [
    "from mxgap import ML_prediction\n",
    "\n",
    "contcar_path    = \"./CONTCAR\"            # Path to the CONTCAR file\n",
    "doscar_path     = \"./DOSCAR\"             # Path to the DOSCAR file\n",
    "model           = \"GBC+RFR_onlygap\"      # ML model\n",
    "prediction      =  ML_prediction(contcar_path,doscar_path,model)"
   ]
  },
  {
   "cell_type": "markdown",
   "metadata": {},
   "source": [
    "There are several models available, between Classifiers and Regressors (and can be combined). Generally, the models that are not trained with DOS information (_notDOS) are faster and do not require the DOSCAR file, but the results are less accurate. We recommend using the default model \"GBC+RFR_onlygap\", which is a combination of a Classifier (metallic/semiconductor) and a Regressor (bandgap prediction). More info about the ML models in the models/ folder."
   ]
  },
  {
   "cell_type": "code",
   "execution_count": 4,
   "metadata": {},
   "outputs": [
    {
     "name": "stdout",
     "output_type": "stream",
     "text": [
      "Classifiers\t     Regressors (full)    Regressors (only gap) Regressors (edges)\n",
      "GBC                  GBR                  GBR_onlygap          \tGBR_edges           \n",
      "RFC                  RFR                  RFR_onlygap          \tRFR_edges           \n",
      "SVC                  SVR                  SVR_onlygap          \tSVR_edges           \n",
      "MLPC                 MLPR                 MLPR_onlygap         \tMLPR_edges          \n",
      "LR                   KRR                  KRR_onlygap          \tKRR_edges            \n",
      "GBC_notDOS           GBR_notDOS           GBR_onlygap_notDOS   \tGBR_edges_notDOS    \n",
      "RFC_notDOS           RFR_notDOS           RFR_onlygap_notDOS   \tRFR_edges_notDOS    \n",
      "SVC_notDOS           SVR_notDOS           SVR_onlygap_notDOS   \tSVR_edges_notDOS    \n",
      "MLPC_notDOS          MLPR_notDOS          MLPR_onlygap_notDOS  \tMLPR_edges_notDOS   \n",
      "LR_notDOS            KRR_notDOS           KRR_onlygap_notDOS   \tKRR_edges_notDOS    \n",
      "\n"
     ]
    }
   ],
   "source": [
    "from mxgap.utils import load_models_list\n",
    "\n",
    "models_list, models_list_string = load_models_list(\"../mxgap/models/MODELS_LIST.txt\")\n",
    "print(models_list_string)"
   ]
  },
  {
   "cell_type": "markdown",
   "metadata": {},
   "source": [
    "## 2. Batch calculations"
   ]
  },
  {
   "cell_type": "markdown",
   "metadata": {},
   "source": [
    "The program can be used in batch to quickly screen different MXenes. Here is done for the examples available in the `test/examples/` folder, but you can use whatever paths you need:"
   ]
  },
  {
   "cell_type": "code",
   "execution_count": null,
   "metadata": {},
   "outputs": [],
   "source": [
    "import os\n",
    "from mxgap import run_prediction\n",
    "\n",
    "examples_folder = \"../mxgap/test/examples/\" \n",
    "paths   = [examples_folder + e for e in os.listdir(examples_folder)]\n",
    "\n",
    "for mxene_path in paths:\n",
    "    print(mxene_path)\n",
    "    prediction = run_prediction(mxene_path)\n"
   ]
  }
 ],
 "metadata": {
  "kernelspec": {
   "display_name": "ML",
   "language": "python",
   "name": "python3"
  },
  "language_info": {
   "codemirror_mode": {
    "name": "ipython",
    "version": 3
   },
   "file_extension": ".py",
   "mimetype": "text/x-python",
   "name": "python",
   "nbconvert_exporter": "python",
   "pygments_lexer": "ipython3",
   "version": "3.12.7"
  }
 },
 "nbformat": 4,
 "nbformat_minor": 2
}
